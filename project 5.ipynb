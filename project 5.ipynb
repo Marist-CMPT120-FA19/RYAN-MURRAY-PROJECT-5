{
 "cells": [
  {
   "cell_type": "code",
   "execution_count": 1,
   "metadata": {},
   "outputs": [
    {
     "name": "stdout",
     "output_type": "stream",
     "text": [
      "Please enter the sentence: Hello GitHub, welcome to Jupiter notebook, sorry for the confusion\n",
      "Number of characters: 66\n",
      "Number of words: 10\n",
      "Average word length: 5.7\n"
     ]
    }
   ],
   "source": [
    "def main():\n",
    "    s = str(input(\"Please enter the sentence: \"))\n",
    "    numWords = len(s.split(\" \"))\n",
    "    average = 0\n",
    "    for n in s:\n",
    "        average = average + len(n)  \n",
    "    average = (average - s.count(\" \"))/numWords   \n",
    "    print(\"Number of characters:\", len(s))\n",
    "    print(\"Number of words:\",  numWords)\n",
    "    print(\"Average word length:\", average)\n",
    "    \n",
    "main()\n"
   ]
  },
  {
   "cell_type": "code",
   "execution_count": null,
   "metadata": {},
   "outputs": [],
   "source": []
  }
 ],
 "metadata": {
  "kernelspec": {
   "display_name": "Python 3",
   "language": "python",
   "name": "python3"
  },
  "language_info": {
   "codemirror_mode": {
    "name": "ipython",
    "version": 3
   },
   "file_extension": ".py",
   "mimetype": "text/x-python",
   "name": "python",
   "nbconvert_exporter": "python",
   "pygments_lexer": "ipython3",
   "version": "3.7.3"
  }
 },
 "nbformat": 4,
 "nbformat_minor": 2
}
